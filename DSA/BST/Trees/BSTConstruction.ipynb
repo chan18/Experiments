{
 "cells": [
  {
   "cell_type": "code",
   "execution_count": 1,
   "metadata": {
    "dotnet_interactive": {
     "language": "csharp"
    },
    "vscode": {
     "languageId": "dotnet-interactive.csharp"
    }
   },
   "outputs": [
    {
     "data": {
      "text/html": [
       "<div><div></div><div></div><div><strong>Installed Packages</strong><ul><li><span>NUnit, 3.13.3</span></li></ul></div></div>"
      ]
     },
     "metadata": {},
     "output_type": "display_data"
    }
   ],
   "source": [
    "#r \"nuget: NUnit, 3.13.3\""
   ]
  },
  {
   "cell_type": "markdown",
   "metadata": {},
   "source": [
    "       10\n",
    "   5      15 \n",
    "  2 5   15   22\n",
    " 1        14     "
   ]
  },
  {
   "cell_type": "markdown",
   "metadata": {},
   "source": [
    "Tree Traversing \n",
    "* In-Order\n",
    "    - node.left\n",
    "    - current node\n",
    "    - node.right\n",
    "* Pre-Order\n",
    "    - current node\n",
    "* Post-Order\n",
    "    - child-nodes"
   ]
  },
  {
   "cell_type": "code",
   "execution_count": 3,
   "metadata": {
    "dotnet_interactive": {
     "language": "csharp"
    },
    "vscode": {
     "languageId": "dotnet-interactive.csharp"
    }
   },
   "outputs": [],
   "source": [
    "public class BST {\n",
    "    public int value;\n",
    "    public BST left;\n",
    "    public BST right;\n",
    "\n",
    "    public BST(int value)\n",
    "    {\n",
    "        this.value = value;\n",
    "    }\n",
    "\n",
    "    public BST Insert(int value)\n",
    "    {\n",
    "        return this;\n",
    "    }\n",
    "\n",
    "    public BST Remove(int value)\n",
    "    {\n",
    "        return this;\n",
    "    }\n",
    "\n",
    "    public bool Contains(int value)\n",
    "    {\n",
    "        return false;\n",
    "    }\n",
    "}"
   ]
  },
  {
   "cell_type": "code",
   "execution_count": null,
   "metadata": {
    "dotnet_interactive": {
     "language": "csharp"
    },
    "vscode": {
     "languageId": "dotnet-interactive.csharp"
    }
   },
   "outputs": [],
   "source": []
  }
 ],
 "metadata": {
  "kernelspec": {
   "display_name": ".NET (C#)",
   "language": "C#",
   "name": ".net-csharp"
  },
  "language_info": {
   "file_extension": ".cs",
   "mimetype": "text/x-csharp",
   "name": "C#",
   "pygments_lexer": "csharp",
   "version": "9.0"
  },
  "orig_nbformat": 4
 },
 "nbformat": 4,
 "nbformat_minor": 2
}
