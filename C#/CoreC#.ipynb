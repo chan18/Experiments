{
 "cells": [
  {
   "cell_type": "markdown",
   "metadata": {},
   "source": [
    "### Code Smells\n",
    "\n",
    "* Large Classes and Methods    \n",
    "* Multiple responsibilites in one class\n",
    "* GOTO\n",
    "* Bad Naming\n",
    "* Magic Number\n",
    "* Code Repetition\n",
    "\n",
    "some of the refactoring techniques involves in \n",
    "* SOLID\n",
    "* DRY\n",
    "* magic number antipattren."
   ]
  },
  {
   "cell_type": "code",
   "execution_count": null,
   "metadata": {
    "dotnet_interactive": {
     "language": "csharp"
    },
    "vscode": {
     "languageId": "dotnet-interactive.csharp"
    }
   },
   "outputs": [],
   "source": []
  }
 ],
 "metadata": {
  "kernelspec": {
   "display_name": ".NET (C#)",
   "language": "C#",
   "name": ".net-csharp"
  },
  "language_info": {
   "file_extension": ".cs",
   "mimetype": "text/x-csharp",
   "name": "C#",
   "pygments_lexer": "csharp",
   "version": "9.0"
  },
  "orig_nbformat": 4
 },
 "nbformat": 4,
 "nbformat_minor": 2
}
