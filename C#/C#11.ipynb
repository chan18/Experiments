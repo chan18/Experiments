{
 "cells": [
  {
   "cell_type": "markdown",
   "metadata": {},
   "source": [
    "# C# 11\n",
    "\n",
    "1 - File scoped types\n",
    "2 - strings\n",
    "3 - list pattrens\n",
    "4 - UTF8 string littrels\n",
    "5 - required members \n",
    "6 - static abstract interface member\n",
    "\n",
    "Miscellaneous\n",
    " \n",
    "7 - Newline in interpolation Hole\n",
    "8 - Top level statment attributes\n",
    "9 - Delegate caching for static methods\n",
    "10 - Generic Attributes\n",
    "11 - nameof(parameter) in attributes\n",
    "12 - Pattren matching on ReadOnlySpans<char>\n",
    "13 - Relax ordering of ref and partical \n",
    "14 - Semi-auto properties \n",
    "15 - DIM for static members\n",
    "16 - Params Span<T>\n",
    "17 - File Types\n",
    "18 - Ref fields\n",
    "\n",
    "Math stuff\n",
    "\n",
    "19 - Unasigned right shift\n",
    "20 - Checked Operators\n",
    "21 - Relaxed Shift Operator\n",
    "22 - Numberic IntPtr"
   ]
  },
  {
   "cell_type": "markdown",
   "metadata": {},
   "source": [
    "**File scoped types**\n",
    "\n",
    "file contextual keyword is a type modifier."
   ]
  },
  {
   "cell_type": "code",
   "execution_count": null,
   "metadata": {
    "dotnet_interactive": {
     "language": "csharp"
    },
    "vscode": {
     "languageId": "dotnet-interactive.csharp"
    }
   },
   "outputs": [],
   "source": [
    "// File scoped types\n",
    "\n",
    "\n",
    "file class HiddenWidget\n",
    "{\n",
    "    // implementation\n",
    "}\n",
    "\n",
    "// In File1.cs:\n",
    "file interface IWidget\n",
    "{\n",
    "    int ProvideAnswer();\n",
    "}\n",
    "\n",
    "file class HiddenWidget\n",
    "{\n",
    "    public int Work() => 42;\n",
    "}\n",
    "\n",
    "public class Widget : IWidget\n",
    "{\n",
    "    public int ProvideAnswer()\n",
    "    {\n",
    "        var worker = new HiddenWidget();\n",
    "        return worker.Work();\n",
    "    }\n",
    "}\n",
    "\n",
    "// In File2.cs:\n",
    "// Doesn't conflict with HiddenWidget \n",
    "// declared in File1.cs\n",
    "public class HiddenWidget\n",
    "{\n",
    "    public void RunTask()\n",
    "    {\n",
    "        // omitted\n",
    "    }\n",
    "}"
   ]
  },
  {
   "cell_type": "code",
   "execution_count": 2,
   "metadata": {
    "dotnet_interactive": {
     "language": "csharp"
    },
    "vscode": {
     "languageId": "dotnet-interactive.csharp"
    }
   },
   "outputs": [
    {
     "name": "stdout",
     "output_type": "stream",
     "text": [
      "15\r\n"
     ]
    }
   ],
   "source": [
    "var result = AddA11(new[] { 1, 2, 3, 4, 5 } ) ;\n",
    "\n",
    "Console.WriteLine(result);\n",
    "\n",
    "int AddA11(int[] values)\n",
    "{\n",
    "    int result = 0;\n",
    "\n",
    "    foreach (var value in values)\n",
    "    {\n",
    "        result += value;\n",
    "    }\n",
    "\n",
    "    return result;\n",
    "}"
   ]
  }
 ],
 "metadata": {
  "kernelspec": {
   "display_name": ".NET (C#)",
   "language": "C#",
   "name": ".net-csharp"
  },
  "language_info": {
   "name": "C#"
  }
 },
 "nbformat": 4,
 "nbformat_minor": 2
}
