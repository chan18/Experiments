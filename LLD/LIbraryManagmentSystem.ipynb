{
 "cells": [
  {
   "cell_type": "code",
   "execution_count": null,
   "metadata": {
    "dotnet_interactive": {
     "language": "csharp"
    },
    "vscode": {
     "languageId": "dotnet-interactive.csharp"
    }
   },
   "outputs": [],
   "source": []
  },
  {
   "cell_type": "markdown",
   "metadata": {},
   "source": [
    "* Usecase Diagram\n",
    "* Class Diagram\n",
    "* Activity Diagram\n",
    "* Code\n",
    "\n",
    "\n",
    "1 - Check out a book\n",
    "2 - Return a book\n",
    "3 - Renew a book"
   ]
  },
  {
   "cell_type": "markdown",
   "metadata": {},
   "source": [
    "* Usecase Diagram\n",
    "\n",
    "Actores\n",
    "\n",
    "Librarin :  can add, update and remove books & users, can also issue, reserve & return book items.\n",
    "Member : can add, update and remove books, search through catalog of books, check-out, reserve, renew a subscription and return a book.\n",
    "System : sends notification for overdue books, canceled books, reservation books etc...\n",
    "\n",
    "Use cases for library system\n"
   ]
  },
  {
   "cell_type": "markdown",
   "metadata": {},
   "source": [
    "* Class Diagram\n",
    "\n",
    "* Library\n",
    "* Book\n",
    "  * BookItem"
   ]
  }
 ],
 "metadata": {
  "kernelspec": {
   "display_name": ".NET (C#)",
   "language": "C#",
   "name": ".net-csharp"
  },
  "language_info": {
   "file_extension": ".cs",
   "mimetype": "text/x-csharp",
   "name": "C#",
   "pygments_lexer": "csharp",
   "version": "9.0"
  },
  "orig_nbformat": 4,
  "vscode": {
   "interpreter": {
    "hash": "369f2c481f4da34e4445cda3fffd2e751bd1c4d706f27375911949ba6bb62e1c"
   }
  }
 },
 "nbformat": 4,
 "nbformat_minor": 2
}
