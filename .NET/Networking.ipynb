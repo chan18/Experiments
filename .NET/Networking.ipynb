{
 "cells": [
  {
   "cell_type": "code",
   "execution_count": null,
   "metadata": {
    "dotnet_interactive": {
     "language": "csharp"
    },
    "vscode": {
     "languageId": "dotnet-interactive.csharp"
    }
   },
   "outputs": [],
   "source": [
    "IPAddress a1 = new IPAddress(new byte[] { 101, 102, 103, 104 });\n",
    "\n",
    "IPAddress a2 = IPAddress.Parse(\"101.102.103.104\");\n",
    "\n",
    "Console.WriteLine(a1.Equals (a2)); // True\n",
    "Console.WriteLine(a1.AddressFamily); // InterNetwork\n",
    "\n",
    "IPAddress a3 = IPAddress.Parse(\"[3EA0:FFFF:198A:E4A3:4FF2:54fA:41BC:8D31]\");\n",
    "Console.WriteLine(a3.AddressFamily); // InterNetworkV6"
   ]
  },
  {
   "cell_type": "code",
   "execution_count": null,
   "metadata": {
    "dotnet_interactive": {
     "language": "csharp"
    },
    "vscode": {
     "languageId": "dotnet-interactive.csharp"
    }
   },
   "outputs": [],
   "source": []
  }
 ],
 "metadata": {
  "kernelspec": {
   "display_name": ".NET (C#)",
   "language": "C#",
   "name": ".net-csharp"
  },
  "language_info": {
   "file_extension": ".cs",
   "mimetype": "text/x-csharp",
   "name": "C#",
   "pygments_lexer": "csharp",
   "version": "9.0"
  },
  "orig_nbformat": 4
 },
 "nbformat": 4,
 "nbformat_minor": 2
}
