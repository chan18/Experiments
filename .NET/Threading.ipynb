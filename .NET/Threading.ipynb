{
 "cells": [
  {
   "cell_type": "markdown",
   "metadata": {},
   "source": [
    "C# supports parallel execution of code through multithreading. A thread is an independent execution path, able to run simultaneously with other threads.  \n",
    "\n",
    " * A thread ends when the delegate passed to the Thread’s constructor finishes executing.  \n",
    " * Once ended, a thread cannot restart.  \n",
    " * The CLR assigns each thread its own memory stack so that local variables are kept separate  \n",
    " * Data sharing between threads, with instance methods and static methods.\n",
    " * A thread, while blocked, doesn't consume CPU resources.  \n",
    "\n",
    "Thread Synchronization\n",
    "* Thread safety : Protection from indeterminacy in a multithreading context is called thread safety.\n",
    "* Exclusive Lock\n",
    "\n",
    "\n",
    "Multithreading is managed internally by a thread scheduler,      \n",
    "A thread scheduler ensures all active threads are allocated appropriate execution time   \n",
    "\n",
    "**Time Slicing** on single processor computer  \n",
    "\n",
    "On a single-processor computer, a thread scheduler performs time-slicing  \n",
    "a time-slice is typically in the tens-of-milliseconds region     \n",
    "switching context between one thread and another few-microseconds region    \n",
    "\n",
    "**Genuine Concurrency**  \n",
    "On a multi-processor computer, multithreading is implemented with a mixture of time-slicing and genuine concurrency  \n",
    "\n",
    "**Threads vs Processes**\n",
    "* Threads run inside a process, A process is managed by operating system.\n",
    "* Threading can share heap memoery this makes them usefull, One thread can fetch data in background while other thread display data on screen.  \n",
    "\n",
    "\n",
    "**Multithreading uses**\n",
    "* Maintaining a responsive user interface\n",
    "* Making efficient use of an otherwise blocked CPU \n",
    "* Parallel programming\n",
    "* Speculative execution\n",
    "* Allowing requests to be processed simultaneously\n",
    "\n",
    "\n",
    "```\n",
    "lock () {}\n",
    "```\n",
    "\n",
    "\n",
    "### Vocabulary\n",
    "* Critical Section\n",
    "* Thraed Safety\n",
    "* multithreading context\n",
    "* nondeterministic ouput\n",
    "* Blocks: When one thread block all other remaining from accessing critical section.\n",
    "* Locker: When two threads simultaneously contend a lock\n",
    "* Thread scheduler \n",
    "* Execution Time\n",
    "* Time slicing : rapidly switching execution between each of the active threads. \n",
    "* Genuine Concurrency: multithreading on a multi processor\n",
    "* preempted : When its execution is interrupted due to an external factor such as time-slicing.\n",
    "\n",
    "\n",
    "### Tips\n",
    "* Shared data is the primary cause of complexity and obscure errors in multithreading.\n",
    "* A good strategy is to encapsulate multithreading logic into reusable classes that can be independently examined and tested. The Framework itself offers many higher-level threading constructs.\n"
   ]
  },
  {
   "cell_type": "code",
   "execution_count": 2,
   "metadata": {
    "dotnet_interactive": {
     "language": "csharp"
    },
    "vscode": {
     "languageId": "dotnet-interactive.csharp"
    }
   },
   "outputs": [],
   "source": [
    "// Notebook usings\n",
    "using System;\n",
    "using System.Threading;"
   ]
  },
  {
   "cell_type": "code",
   "execution_count": 2,
   "metadata": {
    "dotnet_interactive": {
     "language": "csharp"
    },
    "vscode": {
     "languageId": "dotnet-interactive.csharp"
    }
   },
   "outputs": [
    {
     "name": "stdout",
     "output_type": "stream",
     "text": [
      "xxxxxxxxxxyyyyyyyyyy"
     ]
    }
   ],
   "source": [
    "/*\n",
    " multithreaded main\n",
    " IsAlive property.\n",
    "*/\n",
    "\n",
    "class ThreadTest\n",
    "{\n",
    "  public static void Main()\n",
    "  {\n",
    "    //  A thread ends when the delegate passed to the Thread’s constructor finishes executing.\n",
    "    Thread t = new Thread (WriteY);          // Kick off a new thread\n",
    "    t.Start();                               // running WriteY()\n",
    " \n",
    "    // Simultaneously, do something on the main thread.\n",
    "    for (int i = 0; i < 10; i++) Console.Write (\"x\");\n",
    "  }\n",
    " \n",
    "  // The CLR assigns each thread its own memory stack so that local variables are kept separate\n",
    "  // worker thread\n",
    "  static void WriteY()\n",
    "  {\n",
    "    for (int i = 0; i < 10; i++) Console.Write (\"y\");\n",
    "  }\n",
    "}\n",
    "\n",
    "// notebook invokation\n",
    "\n",
    "ThreadTest.Main();\n",
    "\n",
    "// output : xxxxxxxxxxyyyyyyyyyy"
   ]
  },
  {
   "cell_type": "code",
   "execution_count": 1,
   "metadata": {
    "dotnet_interactive": {
     "language": "csharp"
    },
    "vscode": {
     "languageId": "dotnet-interactive.csharp"
    }
   },
   "outputs": [
    {
     "ename": "Error",
     "evalue": "(3,7): error CS0246: The type or namespace name 'Thread' could not be found (are you missing a using directive or an assembly reference?)",
     "output_type": "error",
     "traceback": [
      "(3,7): error CS0246: The type or namespace name 'Thread' could not be found (are you missing a using directive or an assembly reference?)"
     ]
    }
   ],
   "source": [
    "static void Main() \n",
    "{\n",
    "  new Thread (Go).Start();      // Call Go() on a new thread\n",
    "  Go();                         // Call Go() on the main thread\n",
    "}\n",
    " \n",
    "// The CLR assigns each thread its own memory stack so that local variables are kept separate\n",
    "static void Go()\n",
    "{\n",
    "  // Declare and use a local variable - 'cycles'\n",
    "  for (int cycles = 0; cycles < 5; cycles++) Console.Write ('?');\n",
    "}\n",
    "\n",
    "// Notebook Invocation\n",
    "Main();\n",
    "\n",
    "// output: ?????????\n",
    "// note that output, has 5 ? from childthread & 5 ? from main thread, The cycles as it's own scope inside the thread.\n",
    "// each thread local var are stored in \"thread's memoery stack.\""
   ]
  },
  {
   "cell_type": "code",
   "execution_count": 5,
   "metadata": {
    "dotnet_interactive": {
     "language": "csharp"
    },
    "vscode": {
     "languageId": "dotnet-interactive.csharp"
    }
   },
   "outputs": [
    {
     "name": "stdout",
     "output_type": "stream",
     "text": [
      "Done\r\n"
     ]
    }
   ],
   "source": [
    "// Threads share data if they have a common reference to the same object instance. For example:\n",
    "\n",
    "// static methods vs instance methods.\n",
    "class ThreadTest\n",
    "{\n",
    "  bool done;\n",
    " \n",
    "  public static void Main()\n",
    "  {\n",
    "    // instance the thread test class.\n",
    "    ThreadTest tt = new ThreadTest();   // Create a common instance\n",
    "    // start the instance object method, & pass the instance method.\n",
    "    new Thread (tt.Go).Start();\n",
    "    tt.Go();\n",
    "  }\n",
    " \n",
    "  // Note that Go is now an instance method\n",
    "  void Go() \n",
    "  {\n",
    "     if (!done) { done = true; Console.WriteLine (\"Done\"); }\n",
    "  }\n",
    "}\n",
    "\n",
    "// notebook invocation\n",
    "ThreadTest.Main();\n",
    "\n",
    "// output: Done\n",
    "//  common reference data is being shared between threads if the method is instance of an object."
   ]
  },
  {
   "cell_type": "code",
   "execution_count": 7,
   "metadata": {
    "dotnet_interactive": {
     "language": "csharp"
    },
    "vscode": {
     "languageId": "dotnet-interactive.csharp"
    }
   },
   "outputs": [
    {
     "name": "stdout",
     "output_type": "stream",
     "text": [
      "Done\r\n",
      "Done\r\n"
     ]
    }
   ],
   "source": [
    "// Static fields offer another way to share data between threads.\n",
    "\n",
    "class ThreadTest \n",
    "{\n",
    "  static bool done;    // Static fields are shared between all threads\n",
    " \n",
    "  public static void Main()\n",
    "  {\n",
    "    // new Thread (Go).Start();\n",
    "    // Go();\n",
    "\n",
    "    new Thread (Go2).Start();\n",
    "    Go2();\n",
    "  }\n",
    " \n",
    "  static void Go()\n",
    "  {\n",
    "    if (!done) { done = true; Console.WriteLine(\"Done\"); }\n",
    "  }\n",
    "\n",
    "\n",
    "  // thread safety\n",
    "  static void Go2()\n",
    "  {\n",
    "    if (!done) { Console.WriteLine(\"Done\"); done = true; }\n",
    "  }\n",
    "}\n",
    "\n",
    "// notebook invocation\n",
    "ThreadTest.Main();\n",
    "\n",
    "// output : Done\n",
    "// static data is shared between static methods invoked in threading.\n",
    "\n",
    "// Go2() Without thread safety.\n",
    "// on Go2()\n",
    "// output : Done\n",
    "// Done"
   ]
  },
  {
   "cell_type": "code",
   "execution_count": 11,
   "metadata": {
    "dotnet_interactive": {
     "language": "csharp"
    },
    "vscode": {
     "languageId": "dotnet-interactive.csharp"
    }
   },
   "outputs": [
    {
     "name": "stdout",
     "output_type": "stream",
     "text": [
      "Done\r\n"
     ]
    }
   ],
   "source": [
    "// exclusive lock\n",
    "// The remedy is to obtain an exclusive lock while reading and writing to the common field  \n",
    "class ThreadSafe \n",
    "{\n",
    "  static bool done;\n",
    "  static readonly object locker = new object();\n",
    " \n",
    " public static void Main()\n",
    "  {\n",
    "    new Thread (Go).Start();\n",
    "    Go();\n",
    "  }\n",
    " \n",
    "  static void Go()\n",
    "  {\n",
    "    // Code that's protected in such a manner — from indeterminacy in a multithreading context — is called thread-safe.  \n",
    "    lock (locker)\n",
    "    {\n",
    "      if (!done) { Console.WriteLine (\"Done\"); done = true; }\n",
    "    }\n",
    "  }\n",
    "}\n",
    "\n",
    "// notebook invocation\n",
    "ThreadSafe.Main();\n",
    "\n",
    "// output : Done"
   ]
  },
  {
   "cell_type": "code",
   "execution_count": null,
   "metadata": {
    "dotnet_interactive": {
     "language": "csharp"
    },
    "vscode": {
     "languageId": "dotnet-interactive.csharp"
    }
   },
   "outputs": [],
   "source": [
    "// You can wait for another thread to end by calling its Join method\n",
    "\n",
    "static void Main()\n",
    "{\n",
    "  Thread t = new Thread (Go);\n",
    "  // While waiting on a Sleep or Join, a thread is blocked and so does not consume CPU resources.\n",
    "  t.Start();\n",
    "  //  join blocks the thread.\n",
    "  t.Join();\n",
    "  Console.WriteLine (\"Thread t has ended!\");\n",
    "}\n",
    " \n",
    "static void Go()\n",
    "{\n",
    "  for (int i = 0; i < 1000; i++) Console.Write (\"y\");\n",
    "}\n",
    "\n",
    "Main();\n",
    "\n",
    "// pauses the current thread.\n",
    "//  sleep blocks the thread.\n",
    "Thread.Sleep (TimeSpan.FromHours (1));  // sleep for 1 hour\n",
    "Thread.Sleep (500);                     // sleep for 500 milliseconds"
   ]
  },
  {
   "cell_type": "markdown",
   "metadata": {},
   "source": [
    "###  Creating and Starting Threads"
   ]
  },
  {
   "cell_type": "code",
   "execution_count": null,
   "metadata": {
    "dotnet_interactive": {
     "language": "csharp"
    },
    "vscode": {
     "languageId": "dotnet-interactive.csharp"
    }
   },
   "outputs": [],
   "source": [
    "public delegate void ThreadStart();\n",
    "\n",
    "class ThreadTest\n",
    "{\n",
    "  static void Main() \n",
    "  {\n",
    "    Thread t = new Thread (new ThreadStart (Go));\n",
    " \n",
    "    t.Start();   // Run Go() on the new thread.\n",
    "    Go();        // Simultaneously run Go() in the main thread.\n",
    "  }\n",
    " \n",
    "  static void Go()\n",
    "  {\n",
    "    Console.WriteLine (\"hello!\");\n",
    "  }\n",
    "}"
   ]
  },
  {
   "cell_type": "code",
   "execution_count": null,
   "metadata": {
    "dotnet_interactive": {
     "language": "csharp"
    },
    "vscode": {
     "languageId": "dotnet-interactive.csharp"
    }
   },
   "outputs": [],
   "source": [
    "// allowing C# to infer the ThreadStart delegate:\n",
    "\n",
    "Thread t = new Thread (Go);    // No need to explicitly use ThreadStart\n",
    "\n",
    "// another way with, lambda expression or anonymous method.\n",
    "static void Main()\n",
    "{\n",
    "  Thread t = new Thread ( () => Console.WriteLine (\"Hello!\") );\n",
    "  t.Start();\n",
    "}"
   ]
  },
  {
   "cell_type": "markdown",
   "metadata": {},
   "source": [
    "#### Passing Data to a Thread"
   ]
  },
  {
   "cell_type": "code",
   "execution_count": null,
   "metadata": {
    "dotnet_interactive": {
     "language": "csharp"
    },
    "vscode": {
     "languageId": "dotnet-interactive.csharp"
    }
   },
   "outputs": [],
   "source": [
    "// The easy way.\n",
    "\n",
    "static void Main()\n",
    "{\n",
    "    // The easiest way to pass arguments to a thread’s target method is to execute a lambda expression that calls the method with the desired arguments\n",
    "  Thread t = new Thread ( () => Print (\"Hello from t!\") );\n",
    "  t.Start();\n",
    "}\n",
    " \n",
    "static void Print (string message) \n",
    "{\n",
    "  Console.WriteLine (message);\n",
    "}"
   ]
  },
  {
   "cell_type": "code",
   "execution_count": 2,
   "metadata": {
    "dotnet_interactive": {
     "language": "csharp"
    },
    "vscode": {
     "languageId": "dotnet-interactive.csharp"
    }
   },
   "outputs": [
    {
     "name": "stdout",
     "output_type": "stream",
     "text": [
      "I'm running on another thread!\r\n",
      "This is so easy!\r\n"
     ]
    }
   ],
   "source": [
    "// multi-statement lambda\n",
    "new Thread (() =>\n",
    "{\n",
    "  Console.WriteLine (\"I'm running on another thread!\");\n",
    "  Console.WriteLine (\"This is so easy!\");\n",
    "}).Start();"
   ]
  },
  {
   "cell_type": "code",
   "execution_count": null,
   "metadata": {
    "dotnet_interactive": {
     "language": "csharp"
    },
    "vscode": {
     "languageId": "dotnet-interactive.csharp"
    }
   },
   "outputs": [],
   "source": [
    "new Thread (delegate()\n",
    "{\n",
    "  ...\n",
    "}).Start();"
   ]
  },
  {
   "cell_type": "code",
   "execution_count": 3,
   "metadata": {
    "dotnet_interactive": {
     "language": "csharp"
    },
    "vscode": {
     "languageId": "dotnet-interactive.csharp"
    }
   },
   "outputs": [],
   "source": [
    "static void Main()\n",
    "{\n",
    "  Thread t = new Thread (Print);\n",
    "  t.Start (\"Hello from t!\");\n",
    "}\n",
    " \n",
    "static void Print (object messageObj)\n",
    "{\n",
    "  string message = (string) messageObj;   // We need to cast here\n",
    "  Console.WriteLine (message);\n",
    "}"
   ]
  },
  {
   "cell_type": "code",
   "execution_count": 4,
   "metadata": {
    "dotnet_interactive": {
     "language": "csharp"
    },
    "vscode": {
     "languageId": "dotnet-interactive.csharp"
    }
   },
   "outputs": [],
   "source": [
    "//  Thread’s constructor is overloaded to accept either of two delegates\n",
    "public delegate void ThreadStart();\n",
    "\n",
    "// Note: it can only accept object type, So we need to cast to process the params passed to it.\n",
    "public delegate void ParameterizedThreadStart (object obj);"
   ]
  },
  {
   "cell_type": "code",
   "execution_count": 5,
   "metadata": {
    "dotnet_interactive": {
     "language": "csharp"
    },
    "vscode": {
     "languageId": "dotnet-interactive.csharp"
    }
   },
   "outputs": [
    {
     "name": "stdout",
     "output_type": "stream",
     "text": [
      "11344678910"
     ]
    }
   ],
   "source": [
    "for (int i = 0; i < 10; i++)\n",
    "  new Thread (() => Console.Write (i)).Start();\n",
    "\n",
    "  //ouput: 11344678910 <- nondeterministic output.\n",
    "\n",
    "\n",
    "  // fixing above code.\n",
    "  for (int i = 0; i < 10; i++)\n",
    "{\n",
    "  // Variable temp is now local to each loop iteration. Therefore, each thread captures a different memory location \n",
    "  int temp = i;\n",
    "  new Thread (() => Console.Write (temp)).Start();\n",
    "}"
   ]
  },
  {
   "cell_type": "code",
   "execution_count": 6,
   "metadata": {
    "dotnet_interactive": {
     "language": "csharp"
    },
    "vscode": {
     "languageId": "dotnet-interactive.csharp"
    }
   },
   "outputs": [
    {
     "name": "stdout",
     "output_type": "stream",
     "text": [
      "t2\r\n",
      "t2\r\n"
     ]
    }
   ],
   "source": [
    "// problem with nondeterministic output, with for and foreach.\n",
    "string text = \"t1\";\n",
    "Thread t1 = new Thread ( () => Console.WriteLine (text) );\n",
    " \n",
    "text = \"t2\";\n",
    "Thread t2 = new Thread ( () => Console.WriteLine (text) );\n",
    " \n",
    "t1.Start();\n",
    "t2.Start();\n",
    "\n",
    "// output : \n",
    "//t2\n",
    "//t2"
   ]
  },
  {
   "cell_type": "markdown",
   "metadata": {},
   "source": [
    "#### Naming Threads"
   ]
  },
  {
   "cell_type": "code",
   "execution_count": 7,
   "metadata": {
    "dotnet_interactive": {
     "language": "csharp"
    },
    "vscode": {
     "languageId": "dotnet-interactive.csharp"
    }
   },
   "outputs": [],
   "source": [
    "class ThreadNaming\n",
    "{\n",
    "  static void Main()\n",
    "  {\n",
    "    Thread.CurrentThread.Name = \"main\";\n",
    "    Thread worker = new Thread (Go);\n",
    "    worker.Name = \"worker\";\n",
    "    worker.Start();\n",
    "    Go();\n",
    "  }\n",
    " \n",
    "  static void Go()\n",
    "  {\n",
    "    Console.WriteLine (\"Hello from \" + Thread.CurrentThread.Name);\n",
    "  }\n",
    "}"
   ]
  },
  {
   "cell_type": "markdown",
   "metadata": {},
   "source": [
    "#### Foreground and Background Threads\n",
    "\n",
    "* By default, threads you create explicitly are foreground threads. \n",
    "* Foreground threads keep the application alive "
   ]
  },
  {
   "cell_type": "code",
   "execution_count": null,
   "metadata": {
    "dotnet_interactive": {
     "language": "csharp"
    },
    "vscode": {
     "languageId": "dotnet-interactive.csharp"
    }
   },
   "outputs": [],
   "source": [
    "class PriorityTest\n",
    "{\n",
    "  static void Main (string[] args)\n",
    "  {\n",
    "    Thread worker = new Thread ( () => Console.ReadLine() );\n",
    "    if (args.Length > 0) worker.IsBackground = true;\n",
    "    worker.Start();\n",
    "  }\n",
    "}"
   ]
  },
  {
   "cell_type": "code",
   "execution_count": null,
   "metadata": {
    "dotnet_interactive": {
     "language": "csharp"
    },
    "vscode": {
     "languageId": "dotnet-interactive.csharp"
    }
   },
   "outputs": [],
   "source": []
  }
 ],
 "metadata": {
  "kernelspec": {
   "display_name": ".NET (C#)",
   "language": "C#",
   "name": ".net-csharp"
  },
  "language_info": {
   "file_extension": ".cs",
   "mimetype": "text/x-csharp",
   "name": "C#",
   "pygments_lexer": "csharp",
   "version": "9.0"
  },
  "vscode": {
   "interpreter": {
    "hash": "369f2c481f4da34e4445cda3fffd2e751bd1c4d706f27375911949ba6bb62e1c"
   }
  }
 },
 "nbformat": 4,
 "nbformat_minor": 2
}
